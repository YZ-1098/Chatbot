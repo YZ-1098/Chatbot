{
 "cells": [
  {
   "cell_type": "code",
   "execution_count": null,
   "id": "828218d0",
   "metadata": {},
   "outputs": [],
   "source": [
    "import random\n",
    "import pickle\n",
    "import numpy as np\n",
    "import time\n",
    "import datetime\n",
    "import os\n",
    "from sklearn.metrics.pairwise import cosine_similarity"
   ]
  },
  {
   "cell_type": "code",
   "execution_count": null,
   "id": "0c6f2329",
   "metadata": {},
   "outputs": [],
   "source": [
    "# Load retrieval artifacts (resolve relative to this file's directory)\n",
    "BASE_DIR = os.path.dirname(__file__)\n",
    "with open(os.path.join(BASE_DIR, \"tfidf_vectorizer.pkl\"), \"rb\") as f:\n",
    "    vectorizer = pickle.load(f)\n",
    "with open(os.path.join(BASE_DIR, \"qa_matrix.pkl\"), \"rb\") as f:\n",
    "    qa_matrix = pickle.load(f)\n",
    "with open(os.path.join(BASE_DIR, \"qa_answers.pkl\"), \"rb\") as f:\n",
    "    answers = pickle.load(f)"
   ]
  },
  {
   "cell_type": "code",
   "execution_count": null,
   "id": "56eb7df0",
   "metadata": {
    "lines_to_next_cell": 1
   },
   "outputs": [],
   "source": [
    "def retrieve_answer(user_text: str, top_k: int = 1, threshold: float = 0.35):\n",
    "    user_vec = vectorizer.transform([user_text])\n",
    "    sims = cosine_similarity(user_vec, qa_matrix).flatten()\n",
    "    best_idx = int(np.argmax(sims))\n",
    "    best_score = float(sims[best_idx])\n",
    "    if best_score < threshold:\n",
    "        return None, best_score\n",
    "    return answers[best_idx], best_score"
   ]
  },
  {
   "cell_type": "markdown",
   "id": "70ad034d",
   "metadata": {},
   "source": [
    "-------------------------\n",
    "Chat loop (retrieval)\n",
    "-------------------------"
   ]
  },
  {
   "cell_type": "code",
   "execution_count": null,
   "id": "2d78a864",
   "metadata": {},
   "outputs": [],
   "source": [
    "print(\"Chatbot is running! (type 'quit' to exit)\\n\")"
   ]
  },
  {
   "cell_type": "code",
   "execution_count": null,
   "id": "fa0ff049",
   "metadata": {},
   "outputs": [],
   "source": [
    "hour = datetime.datetime.now().hour\n",
    "if hour < 12:\n",
    "    print(\"Chatbot: Good morning! How can I assist you today?\")\n",
    "elif hour < 18:\n",
    "    print(\"Chatbot: Good afternoon! How can I help?\")\n",
    "else:\n",
    "    print(\"Chatbot: Good evening! How may I help you today?\")"
   ]
  },
  {
   "cell_type": "code",
   "execution_count": null,
   "id": "d6b73f87",
   "metadata": {},
   "outputs": [],
   "source": [
    "while True:\n",
    "    message = input(\"You: \")\n",
    "    if message.lower() == \"quit\":\n",
    "        print(\"Chatbot: Goodbye! Have a great day! 👋\")\n",
    "        break\n",
    "\n",
    "    reply, score = retrieve_answer(message)\n",
    "    time.sleep(0.8)\n",
    "    if reply is None:\n",
    "        print(\"Chatbot: I’m not sure yet. Could you rephrase or ask something else?\")\n",
    "    else:\n",
    "        print(f\"Chatbot: {reply}\")"
   ]
  }
 ],
 "metadata": {
  "jupytext": {
   "cell_metadata_filter": "-all",
   "main_language": "python",
   "notebook_metadata_filter": "-all"
  }
 },
 "nbformat": 4,
 "nbformat_minor": 5
}
